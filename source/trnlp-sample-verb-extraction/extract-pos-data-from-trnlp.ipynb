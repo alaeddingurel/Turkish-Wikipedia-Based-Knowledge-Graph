{
  "nbformat": 4,
  "nbformat_minor": 0,
  "metadata": {
    "colab": {
      "name": "Untitled6.ipynb",
      "provenance": [],
      "collapsed_sections": []
    },
    "kernelspec": {
      "name": "python3",
      "display_name": "Python 3"
    }
  },
  "cells": [
    {
      "cell_type": "code",
      "metadata": {
        "colab": {
          "base_uri": "https://localhost:8080/"
        },
        "id": "wo50iw3k-nWh",
        "outputId": "9313d15f-76e7-41e6-9c53-28d1c1682b4a"
      },
      "source": [
        "!wget https://raw.githubusercontent.com/brolin59/trnlp/master/trnlp/data/ana_sozluk.txt"
      ],
      "execution_count": 6,
      "outputs": [
        {
          "output_type": "stream",
          "text": [
            "--2021-02-14 19:22:02--  https://raw.githubusercontent.com/brolin59/trnlp/master/trnlp/data/ana_sozluk.txt\n",
            "Resolving raw.githubusercontent.com (raw.githubusercontent.com)... 185.199.110.133, 185.199.108.133, 185.199.111.133, ...\n",
            "Connecting to raw.githubusercontent.com (raw.githubusercontent.com)|185.199.110.133|:443... connected.\n",
            "HTTP request sent, awaiting response... 200 OK\n",
            "Length: 2489011 (2.4M) [text/plain]\n",
            "Saving to: ‘ana_sozluk.txt’\n",
            "\n",
            "ana_sozluk.txt      100%[===================>]   2.37M  --.-KB/s    in 0.1s    \n",
            "\n",
            "2021-02-14 19:22:03 (21.6 MB/s) - ‘ana_sozluk.txt’ saved [2489011/2489011]\n",
            "\n"
          ],
          "name": "stdout"
        }
      ]
    },
    {
      "cell_type": "code",
      "metadata": {
        "id": "YvMk0SVl_E_5"
      },
      "source": [
        "import pandas as pd\n",
        "data = pd.read_csv(\"ana_sozluk.txt\", sep='\\t', lineterminator='\\r')"
      ],
      "execution_count": 10,
      "outputs": []
    },
    {
      "cell_type": "code",
      "metadata": {
        "colab": {
          "base_uri": "https://localhost:8080/",
          "height": 204
        },
        "id": "9Szp4zo7_7Ho",
        "outputId": "ede25f49-c436-409a-b686-9322a4bacea7"
      },
      "source": [
        "data.head()"
      ],
      "execution_count": 11,
      "outputs": [
        {
          "output_type": "execute_result",
          "data": {
            "text/html": [
              "<div>\n",
              "<style scoped>\n",
              "    .dataframe tbody tr th:only-of-type {\n",
              "        vertical-align: middle;\n",
              "    }\n",
              "\n",
              "    .dataframe tbody tr th {\n",
              "        vertical-align: top;\n",
              "    }\n",
              "\n",
              "    .dataframe thead th {\n",
              "        text-align: right;\n",
              "    }\n",
              "</style>\n",
              "<table border=\"1\" class=\"dataframe\">\n",
              "  <thead>\n",
              "    <tr style=\"text-align: right;\">\n",
              "      <th></th>\n",
              "      <th>a</th>\n",
              "      <th>ünlem</th>\n",
              "      <th>0</th>\n",
              "      <th>0.1</th>\n",
              "      <th>0.2</th>\n",
              "      <th>a(ünlem)</th>\n",
              "    </tr>\n",
              "  </thead>\n",
              "  <tbody>\n",
              "    <tr>\n",
              "      <th>0</th>\n",
              "      <td>\\nab</td>\n",
              "      <td>isim</td>\n",
              "      <td>0</td>\n",
              "      <td>0</td>\n",
              "      <td>Farsça āb</td>\n",
              "      <td>ab(isim)</td>\n",
              "    </tr>\n",
              "    <tr>\n",
              "      <th>1</th>\n",
              "      <td>\\naba</td>\n",
              "      <td>isim,sıfat</td>\n",
              "      <td>0</td>\n",
              "      <td>0</td>\n",
              "      <td>0</td>\n",
              "      <td>aba(isim,sıfat)</td>\n",
              "    </tr>\n",
              "    <tr>\n",
              "      <th>2</th>\n",
              "      <td>\\nabacı</td>\n",
              "      <td>isim,sıfat</td>\n",
              "      <td>0</td>\n",
              "      <td>0</td>\n",
              "      <td>0</td>\n",
              "      <td>aba(isim,sıfat)</td>\n",
              "    </tr>\n",
              "    <tr>\n",
              "      <th>3</th>\n",
              "      <td>\\nabacılık</td>\n",
              "      <td>isim</td>\n",
              "      <td>UZYUM</td>\n",
              "      <td>0</td>\n",
              "      <td>0</td>\n",
              "      <td>aba(isim,sıfat)</td>\n",
              "    </tr>\n",
              "    <tr>\n",
              "      <th>4</th>\n",
              "      <td>\\nabadi</td>\n",
              "      <td>isim</td>\n",
              "      <td>0</td>\n",
              "      <td>0</td>\n",
              "      <td>Farsça ābādī</td>\n",
              "      <td>abadi(isim)</td>\n",
              "    </tr>\n",
              "  </tbody>\n",
              "</table>\n",
              "</div>"
            ],
            "text/plain": [
              "            a       ünlem      0 0.1           0.2         a(ünlem)\n",
              "0        \\nab        isim      0   0     Farsça āb         ab(isim)\n",
              "1       \\naba  isim,sıfat      0   0             0  aba(isim,sıfat)\n",
              "2     \\nabacı  isim,sıfat      0   0             0  aba(isim,sıfat)\n",
              "3  \\nabacılık        isim  UZYUM   0             0  aba(isim,sıfat)\n",
              "4     \\nabadi        isim      0   0  Farsça ābādī      abadi(isim)"
            ]
          },
          "metadata": {
            "tags": []
          },
          "execution_count": 11
        }
      ]
    },
    {
      "cell_type": "code",
      "metadata": {
        "id": "PFdyaE9NBQd_"
      },
      "source": [
        "data[\"a\"] = data[\"a\"].apply(lambda line : line.replace(\"\\n\",\"\"))"
      ],
      "execution_count": 12,
      "outputs": []
    },
    {
      "cell_type": "code",
      "metadata": {
        "colab": {
          "base_uri": "https://localhost:8080/",
          "height": 204
        },
        "id": "OP7lZJPyBZsh",
        "outputId": "458eb1ff-2048-4ff0-eef5-fc11bdf092b8"
      },
      "source": [
        "data.head()"
      ],
      "execution_count": 13,
      "outputs": [
        {
          "output_type": "execute_result",
          "data": {
            "text/html": [
              "<div>\n",
              "<style scoped>\n",
              "    .dataframe tbody tr th:only-of-type {\n",
              "        vertical-align: middle;\n",
              "    }\n",
              "\n",
              "    .dataframe tbody tr th {\n",
              "        vertical-align: top;\n",
              "    }\n",
              "\n",
              "    .dataframe thead th {\n",
              "        text-align: right;\n",
              "    }\n",
              "</style>\n",
              "<table border=\"1\" class=\"dataframe\">\n",
              "  <thead>\n",
              "    <tr style=\"text-align: right;\">\n",
              "      <th></th>\n",
              "      <th>a</th>\n",
              "      <th>ünlem</th>\n",
              "      <th>0</th>\n",
              "      <th>0.1</th>\n",
              "      <th>0.2</th>\n",
              "      <th>a(ünlem)</th>\n",
              "    </tr>\n",
              "  </thead>\n",
              "  <tbody>\n",
              "    <tr>\n",
              "      <th>0</th>\n",
              "      <td>ab</td>\n",
              "      <td>isim</td>\n",
              "      <td>0</td>\n",
              "      <td>0</td>\n",
              "      <td>Farsça āb</td>\n",
              "      <td>ab(isim)</td>\n",
              "    </tr>\n",
              "    <tr>\n",
              "      <th>1</th>\n",
              "      <td>aba</td>\n",
              "      <td>isim,sıfat</td>\n",
              "      <td>0</td>\n",
              "      <td>0</td>\n",
              "      <td>0</td>\n",
              "      <td>aba(isim,sıfat)</td>\n",
              "    </tr>\n",
              "    <tr>\n",
              "      <th>2</th>\n",
              "      <td>abacı</td>\n",
              "      <td>isim,sıfat</td>\n",
              "      <td>0</td>\n",
              "      <td>0</td>\n",
              "      <td>0</td>\n",
              "      <td>aba(isim,sıfat)</td>\n",
              "    </tr>\n",
              "    <tr>\n",
              "      <th>3</th>\n",
              "      <td>abacılık</td>\n",
              "      <td>isim</td>\n",
              "      <td>UZYUM</td>\n",
              "      <td>0</td>\n",
              "      <td>0</td>\n",
              "      <td>aba(isim,sıfat)</td>\n",
              "    </tr>\n",
              "    <tr>\n",
              "      <th>4</th>\n",
              "      <td>abadi</td>\n",
              "      <td>isim</td>\n",
              "      <td>0</td>\n",
              "      <td>0</td>\n",
              "      <td>Farsça ābādī</td>\n",
              "      <td>abadi(isim)</td>\n",
              "    </tr>\n",
              "  </tbody>\n",
              "</table>\n",
              "</div>"
            ],
            "text/plain": [
              "          a       ünlem      0 0.1           0.2         a(ünlem)\n",
              "0        ab        isim      0   0     Farsça āb         ab(isim)\n",
              "1       aba  isim,sıfat      0   0             0  aba(isim,sıfat)\n",
              "2     abacı  isim,sıfat      0   0             0  aba(isim,sıfat)\n",
              "3  abacılık        isim  UZYUM   0             0  aba(isim,sıfat)\n",
              "4     abadi        isim      0   0  Farsça ābādī      abadi(isim)"
            ]
          },
          "metadata": {
            "tags": []
          },
          "execution_count": 13
        }
      ]
    },
    {
      "cell_type": "code",
      "metadata": {
        "id": "tF9_NpI0BaUO"
      },
      "source": [
        "data_clear = data[(data.ünlem == \"sıfat\") | (data.ünlem == \"zarf\") | (data.ünlem == \"fiil\")]"
      ],
      "execution_count": 14,
      "outputs": []
    },
    {
      "cell_type": "code",
      "metadata": {
        "colab": {
          "base_uri": "https://localhost:8080/"
        },
        "id": "nWl-RknLCVYO",
        "outputId": "ab9d9c18-df11-4f4c-e89b-63f8f776a008"
      },
      "source": [
        "data_adverb = data_clear[(data.ünlem == \"zarf\")] \n",
        "data_verb = data_clear[(data.ünlem == \"fiil\")]\n",
        "data_adjective = data_clear[(data.ünlem == \"sıfat\")]"
      ],
      "execution_count": 19,
      "outputs": [
        {
          "output_type": "stream",
          "text": [
            "/usr/local/lib/python3.6/dist-packages/ipykernel_launcher.py:1: UserWarning: Boolean Series key will be reindexed to match DataFrame index.\n",
            "  \"\"\"Entry point for launching an IPython kernel.\n",
            "/usr/local/lib/python3.6/dist-packages/ipykernel_launcher.py:2: UserWarning: Boolean Series key will be reindexed to match DataFrame index.\n",
            "  \n",
            "/usr/local/lib/python3.6/dist-packages/ipykernel_launcher.py:3: UserWarning: Boolean Series key will be reindexed to match DataFrame index.\n",
            "  This is separate from the ipykernel package so we can avoid doing imports until\n"
          ],
          "name": "stderr"
        }
      ]
    },
    {
      "cell_type": "code",
      "metadata": {
        "id": "xaVRVM9ADdNN"
      },
      "source": [
        "verb_list = data_verb.a.tolist()\n",
        "adverb_list = data_adverb.a.tolist()\n",
        "adj_list = data_adjective.a.tolist()"
      ],
      "execution_count": 25,
      "outputs": []
    },
    {
      "cell_type": "code",
      "metadata": {
        "id": "wqR7DuKqEnAT"
      },
      "source": [
        "def list2text(file_name,vocab):\n",
        "  with open(file_name, \"w\") as fhandle:\n",
        "    for w in vocab:\n",
        "      fhandle.write(f'{w}\\n')"
      ],
      "execution_count": 31,
      "outputs": []
    },
    {
      "cell_type": "code",
      "metadata": {
        "id": "hWkneOHoKiGI"
      },
      "source": [
        "list2text(\"tr_verb.txt\",verb_list)\n",
        "list2text(\"tr_adverb.txt\",adverb_list)\n",
        "list2text(\"tr_adj.txt\",adj_list)"
      ],
      "execution_count": 32,
      "outputs": []
    },
    {
      "cell_type": "code",
      "metadata": {
        "id": "fMEH7biaKkYy"
      },
      "source": [
        ""
      ],
      "execution_count": null,
      "outputs": []
    }
  ]
}